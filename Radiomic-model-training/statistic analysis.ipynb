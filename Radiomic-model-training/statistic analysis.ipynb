{
 "cells": [
  {
   "cell_type": "markdown",
   "id": "5a3302cc",
   "metadata": {},
   "source": [
    "# Evaluation statistique des marqueurs pour la séquence ADC"
   ]
  },
  {
   "cell_type": "markdown",
   "id": "dffcdb7f",
   "metadata": {},
   "source": [
    "Ses graphes seront enregistrer dans le dossier Statistique_ADC comme indiquer dans le save_dir"
   ]
  },
  {
   "cell_type": "code",
   "execution_count": null,
   "id": "86d4a49b",
   "metadata": {},
   "outputs": [],
   "source": [
    "import seaborn as sns\n",
    "import matplotlib.pyplot as plt\n",
    "import pandas as pd\n",
    "import os\n",
    "\n",
    "adc2_dir = \"lesions/ADC_T2_Images_Analyses/ADC_T2_features/Data_merge/ProstateX_Adc_Dataset.csv\"\n",
    "\n",
    "save_dir = \"lesions/ADC_T2_Images_Analyses/ADC_T2_features/Data_merge/Statistique_ADC\"\n",
    "\n",
    "df_sampled = pd.read_csv(adc2_dir)\n",
    "\n",
    "df_sampled.drop([\"Unnamed: 0\",\"Unnamed: 0.1\",\"sub\"], axis=1, inplace=True)\n",
    "\n",
    "for column in df_sampled.columns:\n",
    "    plt.figure()\n",
    "    ax = sns.catplot(x='ggs', y=column, data=df_sampled, kind='bar')\n",
    "    ax.set(title=column)\n",
    "    plt.savefig(os.path.join(save_dir,f'{column}_barplot.png'))"
   ]
  },
  {
   "cell_type": "code",
   "execution_count": null,
   "id": "9f639977",
   "metadata": {},
   "outputs": [],
   "source": []
  },
  {
   "cell_type": "markdown",
   "id": "c4227d2f",
   "metadata": {},
   "source": [
    "# Evaluation statistique des marqueurs pour la séquence T2"
   ]
  },
  {
   "cell_type": "markdown",
   "id": "0172d64d",
   "metadata": {},
   "source": [
    "Ses graphes seront enregistrer dans le dossier Statistique_T2 comme indiquer dans le save_dir"
   ]
  },
  {
   "cell_type": "code",
   "execution_count": null,
   "id": "56e72fd7",
   "metadata": {},
   "outputs": [],
   "source": []
  },
  {
   "cell_type": "code",
   "execution_count": null,
   "id": "abf4c9f1",
   "metadata": {},
   "outputs": [],
   "source": [
    "import seaborn as sns\n",
    "import matplotlib.pyplot as plt\n",
    "import pandas as pd\n",
    "import os\n",
    "\n",
    "adc2_dir = \"lesions/ADC_T2_Images_Analyses/ADC_T2_features/Data_merge/ProstateX_T2_Dataset.csv\"\n",
    "\n",
    "save_dir = \"lesions/ADC_T2_Images_Analyses/ADC_T2_features/Data_merge/Statistique_T2\"\n",
    "\n",
    "df_sampled = pd.read_csv(adc2_dir)\n",
    "\n",
    "df_sampled.drop([\"Unnamed: 0\",\"Unnamed: 0.1\",\"sub\"], axis=1, inplace=True)\n",
    "\n",
    "for column in df_sampled.columns:\n",
    "    plt.figure()\n",
    "    ax = sns.catplot(x='ggs', y=column, data=df_sampled, kind='bar')\n",
    "    ax.set(title=column)\n",
    "    plt.savefig(os.path.join(save_dir,f'{column}_barplot.png'))"
   ]
  }
 ],
 "metadata": {
  "kernelspec": {
   "display_name": "Python 3 (ipykernel)",
   "language": "python",
   "name": "python3"
  },
  "language_info": {
   "codemirror_mode": {
    "name": "ipython",
    "version": 3
   },
   "file_extension": ".py",
   "mimetype": "text/x-python",
   "name": "python",
   "nbconvert_exporter": "python",
   "pygments_lexer": "ipython3",
   "version": "3.10.12"
  }
 },
 "nbformat": 4,
 "nbformat_minor": 5
}
